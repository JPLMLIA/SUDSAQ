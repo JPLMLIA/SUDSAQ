{
  "cells": [
    {
      "cell_type": "code",
      "source": [
        "\n",
        "# pip install xarray dask\n",
        "# Dask is needed for lazy loading via xr.open_mfdataset\n"
      ],
      "outputs": [],
      "execution_count": null,
      "metadata": {
        "jupyter": {
          "source_hidden": false,
          "outputs_hidden": false
        },
        "nteract": {
          "transient": {
            "deleting": false
          }
        }
      }
    },
    {
      "cell_type": "code",
      "source": [
        "import xarray as xr\n",
        "\n",
        "from glob import glob\n",
        "\n",
        "path  = '/Volumes/MLIA_active_data/data_SUDSAQ/data'\n",
        "momo  = glob(f'{path}/momo/**/*.nc')                    # List of MOMO .nc files\n",
        "toar  = glob(f'{path}/toar/matched/**/*.nc')            # List of TOAR .nc files\n",
        "files = momo + toar\n",
        "len(files)\n",
        "\n",
        "ds = xr.open_mfdataset(files, engine='scipy', parallel=True) # Lazy load in parallel\n",
        "ds\n"
      ],
      "outputs": [],
      "execution_count": null,
      "metadata": {
        "jupyter": {
          "source_hidden": false,
          "outputs_hidden": false
        },
        "nteract": {
          "transient": {
            "deleting": false
          }
        }
      }
    },
    {
      "cell_type": "code",
      "source": [
        "\n",
        "ns = ds.sel(time='2012-06') # Select only June of 2012\n",
        "ns = ns[['co', 'toar/o3/dma8epa/mean', 'toar/o3/dma8epa/std', 'toar/o3/dma8epa/count']] # Select only these variables\n",
        "ns\n"
      ],
      "outputs": [],
      "execution_count": null,
      "metadata": {
        "jupyter": {
          "source_hidden": false,
          "outputs_hidden": false
        },
        "nteract": {
          "transient": {
            "deleting": false
          }
        }
      }
    },
    {
      "cell_type": "code",
      "source": [
        "\n",
        "ns.load() # Now load the data into memory\n",
        "ns\n"
      ],
      "outputs": [],
      "execution_count": null,
      "metadata": {
        "jupyter": {
          "source_hidden": false,
          "outputs_hidden": false
        },
        "nteract": {
          "transient": {
            "deleting": false
          }
        }
      }
    },
    {
      "cell_type": "code",
      "source": [
        "# The times of TOAR do not align with the times of MOMO\n",
        "(~ns.dropna('time', subset=['toar/o3/dma8epa/count']).isnull()).any()\n"
      ],
      "outputs": [],
      "execution_count": null,
      "metadata": {
        "jupyter": {
          "source_hidden": false,
          "outputs_hidden": false
        },
        "nteract": {
          "transient": {
            "deleting": false
          }
        }
      }
    },
    {
      "cell_type": "code",
      "source": [
        "# Resample\n",
        "ts = ns.groupby('time.day').mean()\n",
        "ts\n"
      ],
      "outputs": [],
      "execution_count": null,
      "metadata": {
        "jupyter": {
          "source_hidden": false,
          "outputs_hidden": false
        },
        "nteract": {
          "transient": {
            "deleting": false
          }
        }
      }
    },
    {
      "cell_type": "code",
      "source": [
        "\n",
        "stacked = ts.stack({'stacked': ['lat', 'lon']})\n",
        "stacked\n"
      ],
      "outputs": [],
      "execution_count": null,
      "metadata": {
        "jupyter": {
          "source_hidden": false,
          "outputs_hidden": false
        },
        "nteract": {
          "transient": {
            "deleting": false
          }
        }
      }
    },
    {
      "cell_type": "code",
      "source": [
        "\n",
        "da = ts.to_array()\n",
        "da.values\n"
      ],
      "outputs": [],
      "execution_count": null,
      "metadata": {
        "jupyter": {
          "source_hidden": false,
          "outputs_hidden": false
        },
        "nteract": {
          "transient": {
            "deleting": false
          }
        }
      }
    },
    {
      "cell_type": "code",
      "source": [
        "\n",
        "da.stack({'data': ['day', 'variable']})\n",
        "da.stack({'data': ['day', 'variable'], 'loc': ['lat', 'lon']})\n"
      ],
      "outputs": [],
      "execution_count": null,
      "metadata": {
        "jupyter": {
          "source_hidden": false,
          "outputs_hidden": false
        },
        "nteract": {
          "transient": {
            "deleting": false
          }
        }
      }
    },
    {
      "cell_type": "code",
      "source": [
        "import cartopy.crs as ccrs\n",
        "import matplotlib.pyplot as plt\n",
        "\n",
        "def geospatial(data, title=None):\n",
        "    \"\"\"\n",
        "    \"\"\"\n",
        "    # Prepare figure\n",
        "    fig = plt.figure(figsize=(15, 8))\n",
        "    ax  = plt.subplot(projection=ccrs.PlateCarree())\n",
        "\n",
        "    # data.plot.pcolormesh(x='lon', y='lat', ax=ax, levels=10, cmap='viridis')\n",
        "    data.plot(ax=ax)\n",
        "\n",
        "    ax.coastlines()\n",
        "    ax.gridlines(draw_labels=True, color='dimgray', linewidth=0.5)\n",
        "\n",
        "    if title:\n",
        "        ax.set_title(title)\n",
        "    plt.show()\n"
      ],
      "outputs": [],
      "execution_count": null,
      "metadata": {
        "jupyter": {
          "source_hidden": false,
          "outputs_hidden": false
        },
        "nteract": {
          "transient": {
            "deleting": false
          }
        }
      }
    },
    {
      "cell_type": "code",
      "source": [
        "# Simple plotting process\n",
        "ax = plt.subplot(projection=ccrs.PlateCarree())\n",
        "ts['co'].mean('day').plot(ax=ax) # Data must be 2d, so take the mean of the `days` dimension\n",
        "ax.coastlines()\n",
        "ax.gridlines(draw_labels=True, color='dimgray', linewidth=0.5)\n"
      ],
      "outputs": [],
      "execution_count": null,
      "metadata": {
        "jupyter": {
          "source_hidden": false,
          "outputs_hidden": false
        },
        "nteract": {
          "transient": {
            "deleting": false
          }
        }
      }
    },
    {
      "cell_type": "code",
      "source": [
        "\n",
        "geospatial(ts['co'].mean('day'))\n",
        "geospatial(ts['toar/o3/dma8epa/mean'].mean('day'))\n",
        "geospatial(ts['toar/o3/dma8epa/std'].mean('day'))\n",
        "geospatial(ts['toar/o3/dma8epa/count'].mean('day'))\n"
      ],
      "outputs": [],
      "execution_count": null,
      "metadata": {
        "jupyter": {
          "source_hidden": false,
          "outputs_hidden": false
        },
        "nteract": {
          "transient": {
            "deleting": false
          }
        }
      }
    },
    {
      "cell_type": "code",
      "source": [
        "# Convert to numpy\n",
        "ds.to_array().values\n",
        "\n",
        "type(ts['toar/o3/dma8epa/mean'].values)\n"
      ],
      "outputs": [],
      "execution_count": null,
      "metadata": {
        "jupyter": {
          "source_hidden": false,
          "outputs_hidden": false
        },
        "nteract": {
          "transient": {
            "deleting": false
          }
        }
      }
    },
    {
      "cell_type": "code",
      "source": [
        "## # Subselect MOMO data between 8am and 4pm and take the average to align with daily TOAR data\n"
      ],
      "outputs": [],
      "execution_count": null,
      "metadata": {
        "jupyter": {
          "source_hidden": false,
          "outputs_hidden": false
        },
        "nteract": {
          "transient": {
            "deleting": false
          }
        }
      }
    },
    {
      "cell_type": "code",
      "source": [
        "import xarray\n",
        "import datetime as dt\n",
        "\n",
        "# Load in the data\n",
        "ds = xr.open_mfdataset(files, engine='scipy', parallel=True)\n",
        "ns = ds.sel(time='2012-06')\n",
        "ns = ns[['co', 'toar/o3/dma8epa/mean', 'toar/o3/dma8epa/std', 'toar/o3/dma8epa/count']]\n",
        "ns.load()\n"
      ],
      "outputs": [],
      "execution_count": null,
      "metadata": {
        "jupyter": {
          "source_hidden": false,
          "outputs_hidden": false
        },
        "nteract": {
          "transient": {
            "deleting": false
          }
        }
      }
    },
    {
      "cell_type": "code",
      "source": [
        "\n",
        "time = ns.time.dt.time # Convert the times dimension to datetime.time objects\n",
        "mask = (dt.time(8) < time) & (time < dt.time(16)) | (time == dt.time(0))\n",
        "# Select timestamps between 8am and 4pm OR midnight\n",
        "\n",
        "ss = ns.where(mask, drop=True)     # Drop timestamps that don't match\n",
        "gs = ss.groupby('time.day').mean() # Take the mean by day\n",
        "gs"
      ],
      "outputs": [],
      "execution_count": null,
      "metadata": {
        "jupyter": {
          "source_hidden": false,
          "outputs_hidden": false
        },
        "nteract": {
          "transient": {
            "deleting": false
          }
        }
      }
    }
  ],
  "metadata": {},
  "nbformat": 4,
  "nbformat_minor": 0
}